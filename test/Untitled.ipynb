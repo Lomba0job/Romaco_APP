{
 "cells": [
  {
   "cell_type": "code",
   "execution_count": 1,
   "id": "55497a37-850f-4c9f-b3e5-5ac4f8f9137d",
   "metadata": {},
   "outputs": [
    {
     "ename": "ModuleNotFoundError",
     "evalue": "No module named 'pygame'",
     "output_type": "error",
     "traceback": [
      "\u001b[0;31m---------------------------------------------------------------------------\u001b[0m",
      "\u001b[0;31mModuleNotFoundError\u001b[0m                       Traceback (most recent call last)",
      "Cell \u001b[0;32mIn[1], line 1\u001b[0m\n\u001b[0;32m----> 1\u001b[0m \u001b[38;5;28;01mimport\u001b[39;00m \u001b[38;5;21;01mpygame\u001b[39;00m\n\u001b[1;32m      2\u001b[0m \u001b[38;5;28;01mfrom\u001b[39;00m \u001b[38;5;21;01mpygame\u001b[39;00m\u001b[38;5;21;01m.\u001b[39;00m\u001b[38;5;21;01mlocals\u001b[39;00m \u001b[38;5;28;01mimport\u001b[39;00m \u001b[38;5;241m*\u001b[39m\n\u001b[1;32m      3\u001b[0m \u001b[38;5;28;01mfrom\u001b[39;00m \u001b[38;5;21;01mOpenGL\u001b[39;00m\u001b[38;5;21;01m.\u001b[39;00m\u001b[38;5;21;01mGL\u001b[39;00m \u001b[38;5;28;01mimport\u001b[39;00m \u001b[38;5;241m*\u001b[39m\n",
      "\u001b[0;31mModuleNotFoundError\u001b[0m: No module named 'pygame'"
     ]
    }
   ],
   "source": [
    "import pygame\n",
    "from pygame.locals import *\n",
    "from OpenGL.GL import *\n",
    "from OpenGL.GLUT import *\n",
    "from OpenGL.GLU import *\n",
    "\n",
    "def load_model(file):\n",
    "    vertices = []\n",
    "    faces = []\n",
    "    with open(file) as f:\n",
    "        for line in f:\n",
    "            if line.startswith('v '):\n",
    "                vertices.append(list(map(float, line.strip().split()[1:])))\n",
    "            elif line.startswith('f '):\n",
    "                face = [int(i.split('/')[0]) - 1 for i in line.strip().split()[1:]]\n",
    "                faces.append(face)\n",
    "    return vertices, faces\n",
    "\n",
    "def draw_model(vertices, faces):\n",
    "    glBegin(GL_TRIANGLES)\n",
    "    for face in faces:\n",
    "        for vertex in face:\n",
    "            glVertex3fv(vertices[vertex])\n",
    "    glEnd()\n",
    "\n",
    "def main():\n",
    "    pygame.init()\n",
    "    display = (800, 600)\n",
    "    pygame.display.set_mode(display, DOUBLEBUF | OPENGL)\n",
    "    gluPerspective(45, (display[0] / display[1]), 0.1, 50.0)\n",
    "    glTranslatef(0.0, 0.0, -5)\n",
    "\n",
    "    vertices, faces = load_model('/Users/lavoro/Documents/PROGETTI_LAVORO/Romaco_4/05_software/Romaco_APP/NLG00000021.obj')\n",
    "\n",
    "    while True:\n",
    "        for event in pygame.event.get():\n",
    "            if event.type == pygame.QUIT:\n",
    "                pygame.quit()\n",
    "                return\n",
    "\n",
    "        glRotatef(1, 3, 1, 1)\n",
    "        glClear(GL_COLOR_BUFFER_BIT | GL_DEPTH_BUFFER_BIT)\n",
    "        draw_model(vertices, faces)\n",
    "        pygame.display.flip()\n",
    "        pygame.time.wait(10)\n",
    "\n",
    "if __name__ == \"__main__\":\n",
    "    main()\n"
   ]
  },
  {
   "cell_type": "code",
   "execution_count": null,
   "id": "b87bcb0d-088b-4e27-b333-74aa7e756ca2",
   "metadata": {},
   "outputs": [],
   "source": []
  }
 ],
 "metadata": {
  "kernelspec": {
   "display_name": "Python 3 (ipykernel)",
   "language": "python",
   "name": "python3"
  },
  "language_info": {
   "codemirror_mode": {
    "name": "ipython",
    "version": 3
   },
   "file_extension": ".py",
   "mimetype": "text/x-python",
   "name": "python",
   "nbconvert_exporter": "python",
   "pygments_lexer": "ipython3",
   "version": "3.11.9"
  }
 },
 "nbformat": 4,
 "nbformat_minor": 5
}
